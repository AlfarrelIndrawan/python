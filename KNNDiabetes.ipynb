{
 "cells": [
  {
   "cell_type": "markdown",
   "metadata": {},
   "source": [
    "# Pima Indians Dataset"
   ]
  },
  {
   "cell_type": "markdown",
   "metadata": {},
   "source": [
    "Import library"
   ]
  },
  {
   "cell_type": "code",
   "execution_count": 30,
   "metadata": {},
   "outputs": [],
   "source": [
    "import pandas as pd\n",
    "from math import sqrt\n",
    "from matplotlib import pyplot as plt\n",
    "import numpy as np\n",
    "import seaborn as sns\n",
    "from collections import Counter"
   ]
  },
  {
   "cell_type": "markdown",
   "metadata": {},
   "source": [
    "Persiapan Data"
   ]
  },
  {
   "cell_type": "code",
   "execution_count": 31,
   "metadata": {},
   "outputs": [],
   "source": [
    "# Membaca dataset\n",
    "dataset = pd.read_csv('DiabetesAsli.csv')\n",
    "# Menandakan angka 0 dengan NaN\n",
    "cols = ['Glucose','BloodPressure','SkinThickness','Insulin','BMI']\n",
    "dataset[cols] = dataset[cols].replace(0, np.NaN)\n",
    "# Mengisi NaN dengan rata-rata\n",
    "dataset.fillna(dataset.mean(), inplace=True)"
   ]
  },
  {
   "cell_type": "markdown",
   "metadata": {},
   "source": [
    "Normalisasi Data"
   ]
  },
  {
   "cell_type": "code",
   "execution_count": 32,
   "metadata": {},
   "outputs": [],
   "source": [
    "# Menemukan nilai minimum dan nilai maksimum pada suatu kolom\n",
    "def dataset_minmax(dataset):\n",
    "    minmax = list()\n",
    "    for i in range(len(dataset.iloc[0,0:8])):\n",
    "        value_min = min(dataset.iloc[:,i])\n",
    "        value_max = max(dataset.iloc[:,i])\n",
    "        minmax.append([value_min, value_max])\n",
    "    return minmax\n",
    "\n",
    "# Normalisasi data menjadi 0-1\n",
    "def normalize_dataset(dataset, minmax):\n",
    "    for i in range(len(dataset.iloc[0,0:8])):\n",
    "        for j in range(len(dataset.iloc[:,1])):\n",
    "            dataset.iloc[j,i] = (dataset.iloc[j,i] - minmax[i][0]) / (minmax[i][1] - minmax[i][0])\n",
    "\n",
    "# Menormalisasi data\n",
    "minmax = dataset_minmax(dataset)\n",
    "normalize_dataset(dataset, minmax)"
   ]
  },
  {
   "cell_type": "markdown",
   "metadata": {},
   "source": [
    "Metode K-NN dari awal"
   ]
  },
  {
   "cell_type": "code",
   "execution_count": 33,
   "metadata": {},
   "outputs": [],
   "source": [
    "# Menghitung jarak euclidean antar data\n",
    "def euclidean_distance(row1, row2):\n",
    "    distance = 0.0\n",
    "    for i in range(len(row1)-1):\n",
    "        distance += (row1[i] - row2[i])**2\n",
    "    return sqrt(distance)\n",
    "\n",
    "# Mengambil neighbor yg dekat\n",
    "def get_neighbors(train, test_row, num_neighbors):\n",
    "    distances = list()\n",
    "    for train_row in train:\n",
    "        dist = euclidean_distance(test_row, train_row)\n",
    "        distances.append((train_row,dist))\n",
    "    distances.sort(key=lambda x:x[1])\n",
    "    neighbors = list()\n",
    "    for i in range(num_neighbors):\n",
    "        neighbors.append(distances[i][0])\n",
    "    return neighbors\n",
    "\n",
    "# Menentukan label si test data\n",
    "def predict_neighbors(train, test_row, num_neighbors):\n",
    "    neighbors = get_neighbors(train, test_row, num_neighbors)\n",
    "    output_values = [row[-1] for row in neighbors]\n",
    "    prediction = max(set(output_values), key=output_values.count)\n",
    "    return prediction\n",
    "\n",
    "# Menjadikan prediksi label test data menjadi list\n",
    "def k_nearest_neighbors(train, test, num_neighbors):\n",
    "    predictions = list()\n",
    "    for row in test:\n",
    "        output = predict_neighbors(train, row, num_neighbors)\n",
    "        predictions.append(output)\n",
    "    return predictions\n",
    "\n",
    "# Membandingkan prediksi label test data dengan yang asli\n",
    "# Menjadikan persentase\n",
    "def accuracy_score(actual, predicted):\n",
    "    correct = 0\n",
    "    for i in range(len(actual)):\n",
    "        if actual[i] == predicted[i]:\n",
    "            correct += 1\n",
    "    return correct / float(len(actual)) * 100.0\n"
   ]
  },
  {
   "cell_type": "markdown",
   "metadata": {},
   "source": [
    "Menghitung Akurasi"
   ]
  },
  {
   "cell_type": "code",
   "execution_count": 40,
   "metadata": {},
   "outputs": [],
   "source": [
    "# Data ada 768, 0-767.\n",
    "# Train 3: 1 set\n",
    "#Train 576 0-575, Test 192 576-767\n",
    "end = int(len(dataset.iloc[:,0].values) / 4 * 3)\n",
    "X_train = dataset.iloc[0:end,0:8].values\n",
    "X_test = dataset.iloc[end:,0:8].values\n",
    "y_train = dataset.iloc[0:end,8].values\n",
    "y_test = dataset.iloc[end:,8].values"
   ]
  },
  {
   "cell_type": "code",
   "execution_count": 41,
   "metadata": {},
   "outputs": [
    {
     "name": "stdout",
     "output_type": "stream",
     "text": [
      "Neighbors - 1 70.3125\n",
      "Neighbors - 2 70.3125\n",
      "Neighbors - 3 73.4375\n",
      "Neighbors - 4 76.04166666666666\n",
      "Neighbors - 5 77.08333333333334\n",
      "Neighbors - 6 76.5625\n",
      "Neighbors - 7 77.08333333333334\n",
      "Neighbors - 8 79.16666666666666\n",
      "Neighbors - 9 79.6875\n",
      "Neighbors - 10 79.16666666666666\n",
      "Neighbors - 11 79.6875\n",
      "Neighbors - 12 80.72916666666666\n",
      "Neighbors - 13 79.16666666666666\n",
      "Neighbors - 14 81.25\n",
      "Neighbors - 15 80.72916666666666\n",
      "Neighbors - 16 81.77083333333334\n",
      "Neighbors - 17 81.77083333333334\n",
      "Neighbors - 18 80.20833333333334\n",
      "Neighbors - 19 81.25\n",
      "Neighbors - 20 79.6875\n",
      "Neighbors - 21 81.77083333333334\n",
      "Neighbors - 22 80.20833333333334\n",
      "Neighbors - 23 82.8125\n",
      "Neighbors - 24 79.6875\n",
      "Neighbors - 25 82.29166666666666\n",
      "Neighbors - 26 80.72916666666666\n",
      "Neighbors - 27 81.77083333333334\n",
      "Neighbors - 28 81.25\n",
      "Neighbors - 29 80.72916666666666\n",
      "Neighbors - 30 80.72916666666666\n"
     ]
    },
    {
     "data": {
      "image/png": "[encoded data removed]",
      "text/plain": [
       "<Figure size 432x288 with 1 Axes>"
      ]
     },
     "metadata": {
      "needs_background": "light"
     },
     "output_type": "display_data"
    }
   ],
   "source": [
    "test_neighbors = list(range(1,31))\n",
    "test_scores = list(range(1,31))\n",
    "for x in range(len(test_neighbors)):\n",
    "    predictions = k_nearest_neighbor(X_train, y_train, X_test, test_neighbors[x])\n",
    "    score = accuracy_score(y_test, predictions)\n",
    "    test_scores[x] = score\n",
    "    print(\"Neighbors -\", x+1,test_scores[x])\n",
    "plt.plot(test_neighbors, test_scores)\n",
    "plt.xlabel(\"Number of Neighbors K\")\n",
    "plt.ylabel(\"The accuracy of KNN in each K\")\n",
    "plt.show()"
   ]
  },
  {
   "cell_type": "markdown",
   "metadata": {},
   "source": [
    "Metode K-NN dengan SKlearn"
   ]
  },
  {
   "cell_type": "code",
   "execution_count": 36,
   "metadata": {},
   "outputs": [
    {
     "name": "stdout",
     "output_type": "stream",
     "text": [
      "Neighbors - 1 0.703125\n",
      "Neighbors - 2 0.6822916666666666\n",
      "Neighbors - 3 0.734375\n",
      "Neighbors - 4 0.7604166666666666\n",
      "Neighbors - 5 0.7708333333333334\n",
      "Neighbors - 6 0.7604166666666666\n",
      "Neighbors - 7 0.7708333333333334\n",
      "Neighbors - 8 0.7708333333333334\n",
      "Neighbors - 9 0.796875\n",
      "Neighbors - 10 0.8020833333333334\n",
      "Neighbors - 11 0.796875\n",
      "Neighbors - 12 0.7864583333333334\n",
      "Neighbors - 13 0.7916666666666666\n",
      "Neighbors - 14 0.7864583333333334\n",
      "Neighbors - 15 0.8072916666666666\n",
      "Neighbors - 16 0.7916666666666666\n",
      "Neighbors - 17 0.8177083333333334\n",
      "Neighbors - 18 0.8072916666666666\n",
      "Neighbors - 19 0.8125\n",
      "Neighbors - 20 0.7864583333333334\n",
      "Neighbors - 21 0.8177083333333334\n",
      "Neighbors - 22 0.8177083333333334\n",
      "Neighbors - 23 0.828125\n",
      "Neighbors - 24 0.8177083333333334\n",
      "Neighbors - 25 0.8229166666666666\n",
      "Neighbors - 26 0.828125\n",
      "Neighbors - 27 0.8177083333333334\n",
      "Neighbors - 28 0.8177083333333334\n",
      "Neighbors - 29 0.8072916666666666\n",
      "Neighbors - 30 0.8072916666666666\n"
     ]
    },
    {
     "data": {
      "image/png": "[encoded data removed]",
      "text/plain": [
       "<Figure size 432x288 with 1 Axes>"
      ]
     },
     "metadata": {
      "needs_background": "light"
     },
     "output_type": "display_data"
    }
   ],
   "source": [
    "# Fitting K-NN to the Training set\n",
    "from sklearn.neighbors import KNeighborsClassifier\n",
    "#euclidean distance for p=2, manhatan for p=1. default neighbhors = 5,metric minkowski,p=2\n",
    "test_neighbors1 = list(range(1,31))\n",
    "test_scores1 = list(range(1,31))\n",
    "for x in range(len(test_neighbors1)):\n",
    "    classifier = KNeighborsClassifier(n_neighbors = x+1, metric = 'minkowski', p = 2)\n",
    "    classifier.fit(X_train, y_train)\n",
    "    test_scores1[x] = classifier.score(X_test,y_test)\n",
    "    print(\"Neighbors -\", x+1,test_scores1[x])\n",
    "plt.plot(test_neighbors1,test_scores1)\n",
    "plt.xlabel(\"Number of Neighbors K\")\n",
    "plt.ylabel(\"The accuracy of KNN in each K\")\n",
    "plt.show()"
   ]
  },
  {
   "cell_type": "markdown",
   "metadata": {},
   "source": [
    "Dari percobaan diatas bisa disimpulkan K yang memiliki akurasi paling tinggi adalah 23."
   ]
  },
  {
   "cell_type": "code",
   "execution_count": 37,
   "metadata": {},
   "outputs": [
    {
     "name": "stdout",
     "output_type": "stream",
     "text": [
      "Akurasinya adalah  82.8125\n"
     ]
    }
   ],
   "source": [
    "predictions = k_nearest_neighbor(X_train, y_train, X_test, 23)\n",
    "score = accuracy_score(y_test, predictions)\n",
    "print(\"Akurasinya adalah \",score)"
   ]
  },
  {
   "cell_type": "code",
   "execution_count": null,
   "metadata": {},
   "outputs": [],
   "source": []
  }
 ],
 "metadata": {
  "kernelspec": {
   "display_name": "Python 3",
   "language": "python",
   "name": "python3"
  },
  "language_info": {
   "codemirror_mode": {
    "name": "ipython",
    "version": 3
   },
   "file_extension": ".py",
   "mimetype": "text/x-python",
   "name": "python",
   "nbconvert_exporter": "python",
   "pygments_lexer": "ipython3",
   "version": "3.7.4"
  }
 },
 "nbformat": 4,
 "nbformat_minor": 2
}
